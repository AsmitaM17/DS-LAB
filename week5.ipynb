{
 "cells": [
  {
   "cell_type": "markdown",
   "id": "aaaffce4",
   "metadata": {},
   "source": [
    "# Accessing and Modifying the Index"
   ]
  },
  {
   "cell_type": "code",
   "execution_count": 3,
   "id": "0177a6aa",
   "metadata": {},
   "outputs": [
    {
     "name": "stdout",
     "output_type": "stream",
     "text": [
      "RangeIndex(start=0, stop=5, step=1)\n"
     ]
    }
   ],
   "source": [
    "import pandas as pd\n",
    "data = {'Name': ['John', 'Alice', 'Bob', 'Eve', 'Charlie'],\n",
    "        'Age': [25, 30, 22, 35, 28],\n",
    "        'Gender': ['Male', 'Female', 'Male', 'Female', 'Male'],\n",
    "        'Salary': [50000, 55000, 40000, 70000, 48000]}\n",
    "df = pd.DataFrame(data)\n",
    "print(df.index)  # Accessing the index"
   ]
  },
  {
   "cell_type": "markdown",
   "id": "a334b2ec",
   "metadata": {},
   "source": [
    "# Setting a Custom Index"
   ]
  },
  {
   "cell_type": "code",
   "execution_count": 4,
   "id": "d950ffcd",
   "metadata": {},
   "outputs": [
    {
     "name": "stdout",
     "output_type": "stream",
     "text": [
      "         Age  Gender  Salary\n",
      "Name                        \n",
      "John      25    Male   50000\n",
      "Alice     30  Female   55000\n",
      "Bob       22    Male   40000\n",
      "Eve       35  Female   70000\n",
      "Charlie   28    Male   48000\n"
     ]
    }
   ],
   "source": [
    "# Set 'Name' column as the index\n",
    "df_with_index = df.set_index('Name')\n",
    "print(df_with_index)"
   ]
  },
  {
   "cell_type": "markdown",
   "id": "0781b81d",
   "metadata": {},
   "source": [
    "# Resetting the Index"
   ]
  },
  {
   "cell_type": "code",
   "execution_count": 5,
   "id": "fb29d015",
   "metadata": {},
   "outputs": [
    {
     "name": "stdout",
     "output_type": "stream",
     "text": [
      "   index     Name  Age  Gender  Salary\n",
      "0      0     John   25    Male   50000\n",
      "1      1    Alice   30  Female   55000\n",
      "2      2      Bob   22    Male   40000\n",
      "3      3      Eve   35  Female   70000\n",
      "4      4  Charlie   28    Male   48000\n"
     ]
    }
   ],
   "source": [
    "# Reset the index back to the default integer index\n",
    "df_reset = df.reset_index()\n",
    "print(df_reset)"
   ]
  },
  {
   "cell_type": "markdown",
   "id": "31725461",
   "metadata": {},
   "source": [
    "# Indexing with loc "
   ]
  },
  {
   "cell_type": "code",
   "execution_count": null,
   "id": "deeb5ee2",
   "metadata": {},
   "outputs": [
    {
     "name": "stdout",
     "output_type": "stream",
     "text": [
      "Age           30\n",
      "Gender    Female\n",
      "Salary     55000\n",
      "Name: Alice, dtype: object\n"
     ]
    }
   ],
   "source": [
    "df.set_index('Name', inplace=True)\n",
    "row = df.loc['Alice']\n",
    "print(row)"
   ]
  },
  {
   "cell_type": "markdown",
   "id": "83701537",
   "metadata": {},
   "source": [
    "# Changing the Index"
   ]
  },
  {
   "cell_type": "code",
   "execution_count": 9,
   "id": "0e99ab71",
   "metadata": {},
   "outputs": [
    {
     "name": "stdout",
     "output_type": "stream",
     "text": [
      "     Gender  Salary\n",
      "Age                \n",
      "25     Male   50000\n",
      "30   Female   55000\n",
      "22     Male   40000\n",
      "35   Female   70000\n",
      "28     Male   48000\n"
     ]
    }
   ],
   "source": [
    "# Set 'Age' as the new index\n",
    "df_with_new_index = df.set_index('Age')\n",
    "print(df_with_new_index)"
   ]
  }
 ],
 "metadata": {
  "kernelspec": {
   "display_name": "Python 3",
   "language": "python",
   "name": "python3"
  },
  "language_info": {
   "codemirror_mode": {
    "name": "ipython",
    "version": 3
   },
   "file_extension": ".py",
   "mimetype": "text/x-python",
   "name": "python",
   "nbconvert_exporter": "python",
   "pygments_lexer": "ipython3",
   "version": "3.12.1"
  }
 },
 "nbformat": 4,
 "nbformat_minor": 5
}
