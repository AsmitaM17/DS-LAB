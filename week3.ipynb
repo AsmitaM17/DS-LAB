{
 "cells": [
  {
   "cell_type": "markdown",
   "id": "3c11ec4e",
   "metadata": {},
   "source": [
    "#design a gui using python to perform basic operators of arithmetic or calculation"
   ]
  },
  {
   "cell_type": "code",
   "execution_count": 1,
   "id": "bacce2cc",
   "metadata": {},
   "outputs": [],
   "source": [
    "import tkinter as tk\n",
    "\n",
    "def calculate():\n",
    "    try:\n",
    "        num1 = float(entry_num1.get())\n",
    "        num2 = float(entry_num2.get())\n",
    "        operation = operation_var.get()\n",
    "\n",
    "        if operation == \"+\":\n",
    "            result = num1 + num2\n",
    "        elif operation == \"-\":\n",
    "            result = num1 - num2\n",
    "        elif operation == \"×\":\n",
    "            result = num1 * num2\n",
    "        elif operation == \"÷\":\n",
    "            if num2 == 0:\n",
    "                result = \"Error: Division by zero!\"\n",
    "            else:\n",
    "                result = num1 / num2\n",
    "        else:\n",
    "            result = \"Invalid operation\"\n",
    "\n",
    "        label_result.config(text=f\"Result: {result}\")\n",
    "    except ValueError:\n",
    "        label_result.config(text=\"Invalid input!\")\n",
    "\n",
    "# Create the main window\n",
    "root = tk.Tk()\n",
    "root.title(\"Simple Calculator\")\n",
    "root.geometry(\"300x200\")\n",
    "\n",
    "# Input fields\n",
    "tk.Label(root, text=\"Number 1:\").pack()\n",
    "entry_num1 = tk.Entry(root)\n",
    "entry_num1.pack()\n",
    "\n",
    "tk.Label(root, text=\"Number 2:\").pack()\n",
    "entry_num2 = tk.Entry(root)\n",
    "entry_num2.pack()\n",
    "\n",
    "# Operation selection\n",
    "tk.Label(root, text=\"Operation:\").pack()\n",
    "operation_var = tk.StringVar(value=\"+\")\n",
    "operations = [\"+\", \"-\", \"×\", \"÷\"]\n",
    "operation_menu = tk.OptionMenu(root, operation_var, *operations)\n",
    "operation_menu.pack()\n",
    "\n",
    "# Calculate button\n",
    "btn_calculate = tk.Button(root, text=\"Calculate\", command=calculate)\n",
    "btn_calculate.pack(pady=10)\n",
    "\n",
    "# Result display\n",
    "label_result = tk.Label(root, text=\"Result: \")\n",
    "label_result.pack()\n",
    "\n",
    "root.mainloop()"
   ]
  }
 ],
 "metadata": {
  "kernelspec": {
   "display_name": "Python 3",
   "language": "python",
   "name": "python3"
  },
  "language_info": {
   "codemirror_mode": {
    "name": "ipython",
    "version": 3
   },
   "file_extension": ".py",
   "mimetype": "text/x-python",
   "name": "python",
   "nbconvert_exporter": "python",
   "pygments_lexer": "ipython3",
   "version": "3.12.1"
  }
 },
 "nbformat": 4,
 "nbformat_minor": 5
}
