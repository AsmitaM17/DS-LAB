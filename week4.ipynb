{
 "cells": [
  {
   "cell_type": "markdown",
   "id": "064704fc",
   "metadata": {},
   "source": [
    "# Write a program to create, append, and remove lists in Python. "
   ]
  },
  {
   "cell_type": "code",
   "execution_count": 1,
   "id": "4690b56e",
   "metadata": {},
   "outputs": [
    {
     "name": "stdout",
     "output_type": "stream",
     "text": [
      "Empty List is: []\n",
      "created list is: [10, 507, 'python']\n",
      "After adding elements the new list is: [10, 507, 'python', 20, 'program', [3, 7]]\n",
      "After deleting elements the new list is: [507, 20, 'program']\n",
      "After removing all the elements the new list is: []\n"
     ]
    }
   ],
   "source": [
    "#creating an empty list\n",
    "empty_List=[]\n",
    "print(\"Empty List is:\", empty_List)\n",
    "#creating a list with elements\n",
    "my_List=[10,507,\"python\"]\n",
    "print(\"created list is:\",my_List)\n",
    "#Inserting new elements using append()\n",
    "my_List.append(20)\n",
    "my_List.append(\"program\")\n",
    "my_List.append([3,7])\n",
    "print(\"After adding elements the new list is:\",my_List)\n",
    "#deleting elements using pop() method\n",
    "d1=my_List.pop()\n",
    "d2=my_List.pop(2)\n",
    "#deleting the elements using remove\n",
    "my_List.remove(10)\n",
    "print(\"After deleting elements the new list is:\",my_List)\n",
    "#Removing all the elements using clear()\n",
    "my_List.clear()\n",
    "print(\"After removing all the elements the new list is:\",my_List)"
   ]
  },
  {
   "cell_type": "markdown",
   "id": "45a2fafc",
   "metadata": {},
   "source": [
    "# Write a program to demonstrate working with tuples in Python "
   ]
  },
  {
   "cell_type": "code",
   "execution_count": 2,
   "id": "42e1cb39",
   "metadata": {},
   "outputs": [
    {
     "name": "stdout",
     "output_type": "stream",
     "text": [
      "Empty tuple= ()\n",
      "single element tuple= (10,)\n",
      "Tuple with multiple elements is: (10, 3.7, 'program', 'a')\n",
      "Length of the tuple is: 4\n",
      "Maximum value of the tuple T1 is: 70.5\n",
      "Minimum value of the tuple T1 is: 10\n",
      "After converting a string into tuple,the new tuple is: ('t', 'u', 'p', 'l', 'e')\n",
      "After converting a List into tuple,the new tuple is: (2, 4, 6, 7, 8)\n"
     ]
    }
   ],
   "source": [
    "#creating an empty tuple\n",
    "empty_tup=()\n",
    "print(\"Empty tuple=\",empty_tup)\n",
    "#creating single element tuple\n",
    "single_tup=(10,)\n",
    "print(\"single element tuple=\",single_tup)\n",
    "#creating a tuple with multiple elements\n",
    "my_Tup=(10,3.7,'program','a')\n",
    "print(\"Tuple with multiple elements is:\",my_Tup)\n",
    "print(\"Length of the tuple is:\",len(my_Tup))\n",
    "T1=(10,20,30,40,70.5,33.3)\n",
    "print(\"Maximum value of the tuple T1 is:\",max(T1))\n",
    "print(\"Minimum value of the tuple T1 is:\",min(T1))\n",
    "str1='tuple'\n",
    "T=tuple(str1)#convering string into tuple\n",
    "print(\"After converting a string into tuple,the new tuple is:\",T)\n",
    "L=[2,4,6,7,8]\n",
    "T2=tuple(L)#convering List into tuple\n",
    "print(\"After converting a List into tuple,the new tuple is:\",T2)"
   ]
  },
  {
   "cell_type": "markdown",
   "id": "47837e09",
   "metadata": {},
   "source": [
    "# Write a program to demonstrate working with dictionaries in Python. "
   ]
  },
  {
   "cell_type": "code",
   "execution_count": 3,
   "id": "585cca8e",
   "metadata": {},
   "outputs": [
    {
     "name": "stdout",
     "output_type": "stream",
     "text": [
      "Empty dictionary is: {}\n",
      "dictionary with integer keys {1: 'apple', 2: 'ball'}\n",
      "dictionary with mixed keys {'name': 'rishi', 1: [2, 4, 3]}\n",
      "dictionary created by using dict.fromkeys method= {'a': 'alphabet', 'b': 'alphabet', 'c': 'alphabet', 'd': 'alphabet'}\n",
      "jack\n",
      "After changing and adding the values,the new dictionary= {'name': 'jack', 'age': 18, 'class': 'B.Tech'}\n",
      "items in the dictionary is: dict_items([('name', 'jack'), ('age', 18), ('class', 'B.Tech')])\n",
      "Keys in the dictionary is: dict_keys(['name', 'age', 'class'])\n",
      "values in the dictionary is: dict_values(['jack', 18, 'B.Tech'])\n"
     ]
    }
   ],
   "source": [
    "#empty dictionary\n",
    "my_dict={}\n",
    "print(\"Empty dictionary is:\",my_dict)\n",
    "#dictionary with integer keys\n",
    "my_dict={1:'apple',2:'ball'}\n",
    "print(\"dictionary with integer keys\",my_dict)\n",
    "#dictionary with mixed keys\n",
    "my_dict={'name':'rishi',1:[2,4,3]}\n",
    "print(\"dictionary with mixed keys\",my_dict)\n",
    "#using dict.fromkeys()\n",
    "my_dict=dict.fromkeys(\"abcd\",'alphabet')\n",
    "print(\"dictionary created by using dict.fromkeys method=\",my_dict)\n",
    "#using get method\n",
    "my_dict={'name':'jack','age':25}\n",
    "print(my_dict['name']) #ouput jack\n",
    "#changing and adding dictionary elements\n",
    "my_dict['age']=18 #update value\n",
    "my_dict['class']=\"B.Tech\" #adding value\n",
    "print(\"After changing and adding the values,the new dictionary=\",my_dict)\n",
    "#using items()\n",
    "print(\"items in the dictionary is:\",my_dict.items())\n",
    "#using keys()\n",
    "print(\"Keys in the dictionary is:\",my_dict.keys())\n",
    "#using values()\n",
    "print(\"values in the dictionary is:\",my_dict.values())"
   ]
  },
  {
   "cell_type": "markdown",
   "id": "d612231a",
   "metadata": {},
   "source": [
    "# Write a program to demonstrate a) arrays b) array indexing such as slicing, integer array indexing and Boolean array indexing along with their basic operations in NumPy."
   ]
  },
  {
   "cell_type": "code",
   "execution_count": 4,
   "id": "24cdfff9",
   "metadata": {},
   "outputs": [
    {
     "name": "stdout",
     "output_type": "stream",
     "text": [
      "entered array is: 42 and its dimension is: 0\n",
      "entered array is: [1 2 3 4 5] and its dimension is: 1\n",
      "entered array is: [[1 2 3]\n",
      " [4 5 6]] and its dimension is: 2\n",
      "entered array is: [[[1 2 3]\n",
      "  [4 5 6]]\n",
      "\n",
      " [[1 2 3]\n",
      "  [4 5 6]]] and its dimension is: 3\n"
     ]
    }
   ],
   "source": [
    "#ARRAY\n",
    "import numpy as np\n",
    "a = np.array(42)\n",
    "b = np.array([1, 2, 3, 4, 5])\n",
    "c = np.array([[1, 2, 3], [4, 5, 6]])\n",
    "d = np.array([[[1, 2, 3], [4, 5, 6]], [[1, 2, 3], [4, 5, 6]]])\n",
    "print(\"entered array is:\",a,\"and its dimension is:\",a.ndim)\n",
    "print(\"entered array is:\",b,\"and its dimension is:\",b.ndim)\n",
    "print(\"entered array is:\",c,\"and its dimension is:\",c.ndim)\n",
    "print(\"entered array is:\",d,\"and its dimension is:\",d.ndim) "
   ]
  },
  {
   "cell_type": "code",
   "execution_count": 5,
   "id": "a435165f",
   "metadata": {},
   "outputs": [
    {
     "name": "stdout",
     "output_type": "stream",
     "text": [
      "a sequential array with nagative step value: [10  8  6  4  2]\n",
      "elements at these indices are: [np.int64(4), np.int64(8), np.int64(6)]\n",
      "Array is: [ 0  1  2  3  4  5  6  7  8  9 10 11 12 13 14 15 16 17 18 19]\n",
      "a[-8:17:1]= [12 13 14 15 16]\n",
      "a[10:]= [10 11 12 13 14 15 16 17 18 19]\n"
     ]
    }
   ],
   "source": [
    "#(B) array indexing...\n",
    "import numpy as np\n",
    "a=np.arange(10,1,-2)\n",
    "print(\"a sequential array with nagative step value:\",a)\n",
    "newarr=[a[3],a[1],a[2]]\n",
    "print(\"elements at these indices are:\",newarr)\n",
    "a=np.arange(20)\n",
    "print(\"Array is:\",a)\n",
    "print(\"a[-8:17:1]=\",a[-8:17:1])\n",
    "print(\"a[10:]=\",a[10:]) "
   ]
  },
  {
   "cell_type": "markdown",
   "id": "05b2bb28",
   "metadata": {},
   "source": [
    "# Write a program to compute summary statistics such as mean, median, mode, standard deviation and variance of the given different types of data. "
   ]
  },
  {
   "cell_type": "code",
   "execution_count": 6,
   "id": "44edcd6d",
   "metadata": {},
   "outputs": [
    {
     "name": "stdout",
     "output_type": "stream",
     "text": [
      "Entered array= [[ 1 23 78]\n",
      " [98 60 75]\n",
      " [79 25 48]]\n",
      "minimum= 1\n",
      "maximum= 98\n",
      "mean= 54.111111111111114\n",
      "median= 60.0\n",
      "standard deviation= 30.296477405960523\n",
      "variance= 917.8765432098766\n"
     ]
    }
   ],
   "source": [
    "import numpy as np\n",
    "a= np.array([[1,23,78],[98,60,75],[79,25,48]])\n",
    "print(\"Entered array=\",a)\n",
    "#Minimum Function\n",
    "print(\"minimum=\",np.amin(a))\n",
    "#Maximum Function\n",
    "print(\"maximum=\",np.amax(a))\n",
    "#Mean Function\n",
    "print(\"mean=\",np.mean(a))\n",
    "#Median Function\n",
    "print(\"median=\",np.median(a))\n",
    "#std Function\n",
    "print(\"standard deviation=\",np.std(a))\n",
    "#var Function\n",
    "print(\"variance=\",np.var(a)) "
   ]
  }
 ],
 "metadata": {
  "kernelspec": {
   "display_name": "Python 3",
   "language": "python",
   "name": "python3"
  },
  "language_info": {
   "codemirror_mode": {
    "name": "ipython",
    "version": 3
   },
   "file_extension": ".py",
   "mimetype": "text/x-python",
   "name": "python",
   "nbconvert_exporter": "python",
   "pygments_lexer": "ipython3",
   "version": "3.12.1"
  }
 },
 "nbformat": 4,
 "nbformat_minor": 5
}
