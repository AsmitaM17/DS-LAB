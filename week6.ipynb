{
 "cells": [
  {
   "cell_type": "markdown",
   "id": "de2e7635",
   "metadata": {},
   "source": [
    "# Pandas Access DataFrame"
   ]
  },
  {
   "cell_type": "code",
   "execution_count": 1,
   "id": "130d7ccc",
   "metadata": {},
   "outputs": [
    {
     "name": "stdout",
     "output_type": "stream",
     "text": [
      "      Name  Age  Gender  Salary\n",
      "0     John   25    Male   50000\n",
      "1    Alice   30  Female   55000\n",
      "2      Bob   22    Male   40000\n",
      "3      Eve   35  Female   70000\n",
      "4  Charlie   28    Male   48000\n"
     ]
    }
   ],
   "source": [
    "import pandas as pd\n",
    "\n",
    "data = {'Name': ['John', 'Alice', 'Bob', 'Eve', 'Charlie'], \n",
    "        'Age': [25, 30, 22, 35, 28], \n",
    "        'Gender': ['Male', 'Female', 'Male', 'Female', 'Male'], \n",
    "        'Salary': [50000, 55000, 40000, 70000, 48000]}\n",
    "\n",
    "df = pd.DataFrame(data)\n",
    "# Display the entire DataFrame\n",
    "print(df)"
   ]
  },
  {
   "cell_type": "markdown",
   "id": "84034ee3",
   "metadata": {},
   "source": [
    "#  Accessing Columns From DataFrame"
   ]
  },
  {
   "cell_type": "code",
   "execution_count": 2,
   "id": "8104335c",
   "metadata": {},
   "outputs": [
    {
     "name": "stdout",
     "output_type": "stream",
     "text": [
      "0    25\n",
      "1    30\n",
      "2    22\n",
      "3    35\n",
      "4    28\n",
      "Name: Age, dtype: int64\n"
     ]
    }
   ],
   "source": [
    "# Access the 'Age' column\n",
    "age_column = df['Age']\n",
    "print(age_column)"
   ]
  },
  {
   "cell_type": "markdown",
   "id": "c3f3ccb0",
   "metadata": {},
   "source": [
    "# Accessing Rows by Index"
   ]
  },
  {
   "cell_type": "code",
   "execution_count": 3,
   "id": "8344adca",
   "metadata": {},
   "outputs": [
    {
     "name": "stdout",
     "output_type": "stream",
     "text": [
      "Name       Alice\n",
      "Age           30\n",
      "Gender    Female\n",
      "Salary     55000\n",
      "Name: 1, dtype: object\n"
     ]
    }
   ],
   "source": [
    "# Access the row at index 1 (second row)\n",
    "second_row = df.iloc[1]\n",
    "print(second_row)"
   ]
  },
  {
   "cell_type": "markdown",
   "id": "f7a7c3cd",
   "metadata": {},
   "source": [
    "# Accessing Multiple Rows or Columns"
   ]
  },
  {
   "cell_type": "code",
   "execution_count": 4,
   "id": "e2b97aa8",
   "metadata": {},
   "outputs": [
    {
     "name": "stdout",
     "output_type": "stream",
     "text": [
      "    Name  Age\n",
      "0   John   25\n",
      "1  Alice   30\n",
      "2    Bob   22\n"
     ]
    }
   ],
   "source": [
    "# Access the first three rows and the 'Name' and 'Age' columns\n",
    "subset = df.loc[0:2, ['Name', 'Age']]\n",
    "print(subset)"
   ]
  },
  {
   "cell_type": "markdown",
   "id": "3c7d818d",
   "metadata": {},
   "source": [
    "# Accessing Rows Based on Conditions"
   ]
  },
  {
   "cell_type": "code",
   "execution_count": 5,
   "id": "d9e7a206",
   "metadata": {},
   "outputs": [
    {
     "name": "stdout",
     "output_type": "stream",
     "text": [
      "      Name  Age  Gender  Salary\n",
      "1    Alice   30  Female   55000\n",
      "3      Eve   35  Female   70000\n",
      "4  Charlie   28    Male   48000\n"
     ]
    }
   ],
   "source": [
    "# Access rows where 'Age' is greater than 25\n",
    "filtered_data = df[df['Age'] > 25]\n",
    "print(filtered_data)"
   ]
  },
  {
   "cell_type": "markdown",
   "id": "fe68625a",
   "metadata": {},
   "source": [
    "# Accessing Specific Cells with at and iat"
   ]
  },
  {
   "cell_type": "code",
   "execution_count": 6,
   "id": "08852ce0",
   "metadata": {},
   "outputs": [
    {
     "name": "stdout",
     "output_type": "stream",
     "text": [
      "40000\n"
     ]
    }
   ],
   "source": [
    "# Access the 'Salary' of the row with label 2\n",
    "salary_at_index_2 = df.at[2, 'Salary']\n",
    "print(salary_at_index_2)"
   ]
  }
 ],
 "metadata": {
  "kernelspec": {
   "display_name": "Python 3",
   "language": "python",
   "name": "python3"
  },
  "language_info": {
   "codemirror_mode": {
    "name": "ipython",
    "version": 3
   },
   "file_extension": ".py",
   "mimetype": "text/x-python",
   "name": "python",
   "nbconvert_exporter": "python",
   "pygments_lexer": "ipython3",
   "version": "3.12.1"
  }
 },
 "nbformat": 4,
 "nbformat_minor": 5
}
