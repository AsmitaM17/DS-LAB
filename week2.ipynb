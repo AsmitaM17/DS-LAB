{
 "cells": [
  {
   "cell_type": "markdown",
   "metadata": {},
   "source": [
    "#Write a Python function to multiply all the numbers in a list"
   ]
  },
  {
   "cell_type": "code",
   "execution_count": 2,
   "metadata": {},
   "outputs": [
    {
     "name": "stdout",
     "output_type": "stream",
     "text": [
      "The product of the numbers in the list is: 480.0\n"
     ]
    }
   ],
   "source": [
    "# Function to multiply all numbers in a list\n",
    "def multiply_list(numbers):\n",
    "    result = 1  # Start with 1 because multiplying by 0 results in 0\n",
    "    for num in numbers:\n",
    "        result *= num\n",
    "    return result\n",
    "\n",
    "user_input = input(\"Enter a list of numbers separated by spaces: \")\n",
    "num_list = [float(x) for x in user_input.split()]  # Convert input to a list of numbers\n",
    "\n",
    "product = multiply_list(num_list)\n",
    "\n",
    "print(f\"The product of the numbers in the list is: {product}\")"
   ]
  }
 ],
 "metadata": {
  "kernelspec": {
   "display_name": "Python 3",
   "language": "python",
   "name": "python3"
  },
  "language_info": {
   "codemirror_mode": {
    "name": "ipython",
    "version": 3
   },
   "file_extension": ".py",
   "mimetype": "text/x-python",
   "name": "python",
   "nbconvert_exporter": "python",
   "pygments_lexer": "ipython3",
   "version": "3.12.1"
  }
 },
 "nbformat": 4,
 "nbformat_minor": 2
}
