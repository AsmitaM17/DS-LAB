{
 "cells": [
  {
   "cell_type": "markdown",
   "metadata": {},
   "source": [
    "#Write a Python function to multiply all the numbers in a list"
   ]
  },
  {
   "cell_type": "code",
   "execution_count": 2,
   "metadata": {},
   "outputs": [
    {
     "name": "stdout",
     "output_type": "stream",
     "text": [
      "The product of the numbers in the list is: 480.0\n"
     ]
    }
   ],
   "source": [
    "# Function to multiply all numbers in a list\n",
    "def multiply_list(numbers):\n",
    "    result = 1  # Start with 1 because multiplying by 0 results in 0\n",
    "    for num in numbers:\n",
    "        result *= num\n",
    "    return result\n",
    "\n",
    "user_input = input(\"Enter a list of numbers separated by spaces: \")\n",
    "num_list = [float(x) for x in user_input.split()]  # Convert input to a list of numbers\n",
    "\n",
    "product = multiply_list(num_list)\n",
    "\n",
    "print(f\"The product of the numbers in the list is: {product}\")"
   ]
  },
  {
   "cell_type": "markdown",
   "metadata": {},
   "source": [
    "#Check if a number is perfect."
   ]
  },
  {
   "cell_type": "code",
   "execution_count": 4,
   "metadata": {},
   "outputs": [
    {
     "name": "stdout",
     "output_type": "stream",
     "text": [
      "3 is not a perfect number.\n"
     ]
    }
   ],
   "source": [
    "# Function to check if a number is perfect\n",
    "def is_perfect_number(n):\n",
    "    if n < 1:\n",
    "        return False  # Perfect numbers are positive integers\n",
    "\n",
    "    divisor_sum = sum(i for i in range(1, n) if n % i == 0)\n",
    "    return divisor_sum == n\n",
    "\n",
    "number = int(input(\"Enter a number: \"))\n",
    "\n",
    "if is_perfect_number(number):\n",
    "    print(f\"{number} is a perfect number.\")\n",
    "else:\n",
    "    print(f\"{number} is not a perfect number.\")"
   ]
  },
  {
   "cell_type": "markdown",
   "metadata": {},
   "source": [
    "#Create a function that checks if a passed string is a palindrome or not."
   ]
  },
  {
   "cell_type": "code",
   "execution_count": 5,
   "metadata": {},
   "outputs": [
    {
     "name": "stdout",
     "output_type": "stream",
     "text": [
      "\"madam\" is a palindrome.\n"
     ]
    }
   ],
   "source": [
    "# Function to check if a string is a palindrome\n",
    "def is_palindrome(s):\n",
    "    s = s.lower().replace(\" \", \"\")  # Convert to lowercase and remove spaces\n",
    "    return s == s[::-1]  # Compare the string with its reverse\n",
    "\n",
    "user_input = input(\"Enter a string: \")\n",
    "\n",
    "if is_palindrome(user_input):\n",
    "    print(f'\"{user_input}\" is a palindrome.')\n",
    "else:\n",
    "    print(f'\"{user_input}\" is not a palindrome.')\n"
   ]
  },
  {
   "cell_type": "markdown",
   "metadata": {},
   "source": [
    "#Write a Python program to check if a passed string is a pangram or not."
   ]
  },
  {
   "cell_type": "code",
   "execution_count": 6,
   "metadata": {},
   "outputs": [
    {
     "name": "stdout",
     "output_type": "stream",
     "text": [
      "The string is a pangram.\n"
     ]
    }
   ],
   "source": [
    "import string\n",
    "\n",
    "def is_pangram(s):\n",
    "    alphabet = set(string.ascii_lowercase)\n",
    "    return alphabet.issubset(set(s.lower()))\n",
    "\n",
    "sentence = \"The quick brown fox jumps over the lazy dog\"\n",
    "if is_pangram(sentence):\n",
    "    print(\"The string is a pangram.\")\n",
    "else:\n",
    "    print(\"The string is not a pangram.\")"
   ]
  },
  {
   "cell_type": "markdown",
   "metadata": {},
   "source": [
    "#Calculate the sum of the digits of a number."
   ]
  },
  {
   "cell_type": "code",
   "execution_count": 7,
   "metadata": {},
   "outputs": [
    {
     "name": "stdout",
     "output_type": "stream",
     "text": [
      "The sum of the digits of 12345 is 15\n"
     ]
    }
   ],
   "source": [
    "def sum_of_digits(n):\n",
    "    return sum(int(digit) for digit in str(abs(n)))\n",
    "\n",
    "number = 12345\n",
    "print(f\"The sum of the digits of {number} is {sum_of_digits(number)}\")"
   ]
  },
  {
   "cell_type": "markdown",
   "metadata": {},
   "source": [
    "#Generate a list of four random numbers."
   ]
  },
  {
   "cell_type": "code",
   "execution_count": 9,
   "metadata": {},
   "outputs": [
    {
     "name": "stdout",
     "output_type": "stream",
     "text": [
      "Random numbers: [11, 5, 82, 34]\n"
     ]
    }
   ],
   "source": [
    "import random\n",
    "\n",
    "def sum_of_digits(n):\n",
    "    return sum(int(digit) for digit in str(abs(n)))\n",
    "\n",
    "# Generate a list of four random numbers\n",
    "random_numbers = [random.randint(1, 100) for _ in range(4)]\n",
    "print(f\"Random numbers: {random_numbers}\")"
   ]
  }
 ],
 "metadata": {
  "kernelspec": {
   "display_name": "Python 3",
   "language": "python",
   "name": "python3"
  },
  "language_info": {
   "codemirror_mode": {
    "name": "ipython",
    "version": 3
   },
   "file_extension": ".py",
   "mimetype": "text/x-python",
   "name": "python",
   "nbconvert_exporter": "python",
   "pygments_lexer": "ipython3",
   "version": "3.12.1"
  }
 },
 "nbformat": 4,
 "nbformat_minor": 2
}
