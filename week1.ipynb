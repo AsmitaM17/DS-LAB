{
 "cells": [
  {
   "cell_type": "code",
   "execution_count": 1,
   "metadata": {},
   "outputs": [
    {
     "name": "stdout",
     "output_type": "stream",
     "text": [
      "Hello World!\n"
     ]
    }
   ],
   "source": [
    "print(\"Hello, World!\")"
   ]
  },
  {
   "cell_type": "markdown",
   "metadata": {},
   "source": [
    "#Calculate the sum of two numbers"
   ]
  },
  {
   "cell_type": "code",
   "execution_count": 3,
   "metadata": {},
   "outputs": [
    {
     "name": "stdout",
     "output_type": "stream",
     "text": [
      "30\n"
     ]
    }
   ],
   "source": [
    "sum = 10 + 20\n",
    "print(sum)"
   ]
  },
  {
   "cell_type": "markdown",
   "metadata": {},
   "source": [
    "#Find the square of a number"
   ]
  },
  {
   "cell_type": "code",
   "execution_count": 4,
   "metadata": {},
   "outputs": [
    {
     "name": "stdout",
     "output_type": "stream",
     "text": [
      "The square of 2 is 4\n"
     ]
    }
   ],
   "source": [
    "a=int(input(\"Enter a number: \"))\n",
    "sqr= a*a\n",
    "print(f'The square of {a} is {sqr}')"
   ]
  },
  {
   "cell_type": "markdown",
   "metadata": {},
   "source": [
    "#accept the user's name and greet them with it"
   ]
  },
  {
   "cell_type": "code",
   "execution_count": 1,
   "metadata": {},
   "outputs": [
    {
     "name": "stdout",
     "output_type": "stream",
     "text": [
      "Hello Ash\n"
     ]
    }
   ],
   "source": [
    "name=input(\"Enter your name: \")\n",
    "print(f'Hello {name}')"
   ]
  },
  {
   "cell_type": "markdown",
   "metadata": {},
   "source": [
    "#Check whether a number is odd or even"
   ]
  },
  {
   "cell_type": "code",
   "execution_count": 2,
   "metadata": {},
   "outputs": [
    {
     "name": "stdout",
     "output_type": "stream",
     "text": [
      "3 is odd\n"
     ]
    }
   ],
   "source": [
    "a=int(input(\"Enter a number: \"))\n",
    "if a%2 == 0:\n",
    "    print(f'{a} is even')\n",
    "else:\n",
    "    print(f'{a} is odd')"
   ]
  },
  {
   "cell_type": "markdown",
   "metadata": {},
   "source": [
    "#write a python program that takes a list and returns a new list with unique elements of the first list"
   ]
  },
  {
   "cell_type": "code",
   "execution_count": 1,
   "metadata": {},
   "outputs": [
    {
     "name": "stdout",
     "output_type": "stream",
     "text": [
      "The unique elements are: [2, 3, 4, 5]\n"
     ]
    }
   ],
   "source": [
    "# Function to get unique elements from a list\n",
    "def get_unique_elements(input_list):\n",
    "    return list(set(input_list))\n",
    "\n",
    "# Input: List from the user\n",
    "user_input = input(\"Enter a list of elements separated by spaces: \")\n",
    "input_list = user_input.split()  # Splits the input string into a list\n",
    "\n",
    "# Convert elements to integers if needed\n",
    "try:\n",
    "    input_list = [int(x) for x in input_list]\n",
    "except ValueError:\n",
    "    pass  # If conversion fails, keep them as strings \n",
    "\n",
    "# Get unique elements\n",
    "unique_list = get_unique_elements(input_list)\n",
    "\n",
    "# Output the result\n",
    "print(f\"The unique elements are: {unique_list}\")"
   ]
  },
  {
   "cell_type": "markdown",
   "metadata": {},
   "source": [
    "#Convert celsius to fahrenheit"
   ]
  },
  {
   "cell_type": "code",
   "execution_count": 4,
   "metadata": {},
   "outputs": [
    {
     "name": "stdout",
     "output_type": "stream",
     "text": [
      "32.0 in celsius is 89.6 in fahrenheit\n"
     ]
    }
   ],
   "source": [
    "celsius = float(input(\"Enter temperature in Celsius: \"))\n",
    "fahrenheit = (celsius * 9/5) + 32\n",
    "print(f'{celsius} in celsius is {fahrenheit} in fahrenheit')"
   ]
  },
  {
   "cell_type": "markdown",
   "metadata": {},
   "source": [
    "#calculate the area of a circle"
   ]
  },
  {
   "cell_type": "code",
   "execution_count": 2,
   "metadata": {},
   "outputs": [
    {
     "name": "stdout",
     "output_type": "stream",
     "text": [
      "The area of the circle is 78.5\n"
     ]
    }
   ],
   "source": [
    "rad=5\n",
    "area=3.14*rad*rad\n",
    "print(f'The area of the circle is {area}')"
   ]
  },
  {
   "cell_type": "markdown",
   "metadata": {},
   "source": [
    "#Reverse a given string."
   ]
  },
  {
   "cell_type": "code",
   "execution_count": 3,
   "metadata": {},
   "outputs": [
    {
     "name": "stdout",
     "output_type": "stream",
     "text": [
      "The reversed string is: olleh\n"
     ]
    }
   ],
   "source": [
    "# Function to reverse a string\n",
    "def rev_string(s):\n",
    "    return s[::-1]\n",
    "\n",
    "string = input(\"Enter a string: \")\n",
    "\n",
    "reversed_string = rev_string(string)\n",
    "\n",
    "print(f\"The reversed string is: {reversed_string}\")"
   ]
  },
  {
   "cell_type": "markdown",
   "metadata": {},
   "source": [
    "#Check if a number is a prime number."
   ]
  },
  {
   "cell_type": "code",
   "execution_count": 4,
   "metadata": {},
   "outputs": [
    {
     "name": "stdout",
     "output_type": "stream",
     "text": [
      "3 is a prime number.\n"
     ]
    }
   ],
   "source": [
    "# Function to check if a number is prime\n",
    "def is_prime(num):\n",
    "    if num <= 1:\n",
    "        return False\n",
    "    for i in range(2, int(num ** 0.5) + 1):\n",
    "        if num % i == 0:\n",
    "            return False\n",
    "    return True\n",
    "\n",
    "number = int(input(\"Enter a number: \"))\n",
    "\n",
    "if is_prime(number):\n",
    "    print(f\"{number} is a prime number.\")\n",
    "else:\n",
    "    print(f\"{number} is not a prime number.\")"
   ]
  },
  {
   "cell_type": "markdown",
   "metadata": {},
   "source": [
    "#Calculate the factorial of a number."
   ]
  },
  {
   "cell_type": "code",
   "execution_count": 5,
   "metadata": {},
   "outputs": [
    {
     "name": "stdout",
     "output_type": "stream",
     "text": [
      "The factorial of 7 is: 5040\n"
     ]
    }
   ],
   "source": [
    "def factorial(n):\n",
    "    if n < 0:\n",
    "        return \"Factorial is not defined for negative numbers.\"\n",
    "    elif n == 0 or n == 1:\n",
    "        return 1\n",
    "    else:\n",
    "        result = 1\n",
    "        for i in range(2, n + 1):\n",
    "            result *= i\n",
    "        return result\n",
    "\n",
    "number = int(input(\"Enter a number: \"))\n",
    "\n",
    "fact = factorial(number)\n",
    "print(f\"The factorial of {number} is: {fact}\")"
   ]
  },
  {
   "cell_type": "markdown",
   "metadata": {},
   "source": [
    "#Find the largest item from a given list."
   ]
  },
  {
   "cell_type": "code",
   "execution_count": 7,
   "metadata": {},
   "outputs": [
    {
     "name": "stdout",
     "output_type": "stream",
     "text": [
      "The largest item in the list is: 6.0\n"
     ]
    }
   ],
   "source": [
    "# Function to find the largest item in a list\n",
    "def find_largest_item(lst):\n",
    "    if not lst:\n",
    "        return \"The list is empty.\"\n",
    "    return max(lst)\n",
    "\n",
    "user_input = input(\"Enter a list of numbers separated by spaces: \")\n",
    "num_list = [float(x) for x in user_input.split()]  # Convert input to a list of numbers\n",
    "\n",
    "largest_item = find_largest_item(num_list)\n",
    "print(f\"The largest item in the list is: {largest_item}\")\n"
   ]
  },
  {
   "cell_type": "markdown",
   "metadata": {},
   "source": [
    "#Write a Python program to check whether a number is in a given range."
   ]
  },
  {
   "cell_type": "code",
   "execution_count": 8,
   "metadata": {},
   "outputs": [
    {
     "name": "stdout",
     "output_type": "stream",
     "text": [
      "4.0 is in the range [2.0, 10.0].\n"
     ]
    }
   ],
   "source": [
    "# Function to check if a number is in a range\n",
    "def is_in_range(number, start, end):\n",
    "    return start <= number <= end\n",
    "\n",
    "number = float(input(\"Enter a number: \"))\n",
    "start = float(input(\"Enter the start of the range: \"))\n",
    "end = float(input(\"Enter the end of the range: \"))\n",
    "\n",
    "if is_in_range(number, start, end):\n",
    "    print(f\"{number} is in the range [{start}, {end}].\")\n",
    "else:\n",
    "    print(f\"{number} is not in the range [{start}, {end}].\")"
   ]
  },
  {
   "cell_type": "markdown",
   "metadata": {},
   "source": [
    "Calculate the number of upper case letters and lower case letters in a string."
   ]
  },
  {
   "cell_type": "code",
   "execution_count": 9,
   "metadata": {},
   "outputs": [
    {
     "name": "stdout",
     "output_type": "stream",
     "text": [
      "Number of uppercase letters: 2\n",
      "Number of lowercase letters: 3\n"
     ]
    }
   ],
   "source": [
    "# Function to count uppercase and lowercase letters\n",
    "def count_case_letters(s):\n",
    "    upper_count = sum(1 for char in s if char.isupper())\n",
    "    lower_count = sum(1 for char in s if char.islower())\n",
    "    return upper_count, lower_count\n",
    "\n",
    "input_string = input(\"Enter a string: \")\n",
    "uppercase_count, lowercase_count = count_case_letters(input_string)\n",
    "\n",
    "print(f\"Number of uppercase letters: {uppercase_count}\")\n",
    "print(f\"Number of lowercase letters: {lowercase_count}\")\n"
   ]
  }
 ],
 "metadata": {
  "kernelspec": {
   "display_name": "Python 3",
   "language": "python",
   "name": "python3"
  },
  "language_info": {
   "codemirror_mode": {
    "name": "ipython",
    "version": 3
   },
   "file_extension": ".py",
   "mimetype": "text/x-python",
   "name": "python",
   "nbconvert_exporter": "python",
   "pygments_lexer": "ipython3",
   "version": "3.12.1"
  }
 },
 "nbformat": 4,
 "nbformat_minor": 2
}
